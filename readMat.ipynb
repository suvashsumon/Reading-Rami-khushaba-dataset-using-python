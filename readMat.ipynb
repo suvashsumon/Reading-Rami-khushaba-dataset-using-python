{
 "cells": [
  {
   "cell_type": "code",
   "execution_count": 1,
   "metadata": {},
   "outputs": [],
   "source": [
    "import numpy as np\n",
    "import matplotlib.pyplot as plt\n",
    "import scipy.io as scipyio\n",
    "import seaborn as sns"
   ]
  },
  {
   "cell_type": "code",
   "execution_count": 4,
   "metadata": {},
   "outputs": [],
   "source": [
    "# Loading the mat file\n",
    "matdata = scipyio.loadmat(\"dataset/S1_20140620T021349.mat\")\n",
    "#matdata = scipyio.loadmat(\"Index-1.mat\")"
   ]
  },
  {
   "cell_type": "code",
   "execution_count": 5,
   "metadata": {},
   "outputs": [
    {
     "data": {
      "text/plain": [
       "dict_keys(['__header__', '__version__', '__globals__', 'data_ACC', 'data_EMG'])"
      ]
     },
     "execution_count": 5,
     "metadata": {},
     "output_type": "execute_result"
    }
   ],
   "source": [
    "# keys of this matdata\n",
    "matdata.keys()"
   ]
  },
  {
   "cell_type": "code",
   "execution_count": 5,
   "metadata": {},
   "outputs": [
    {
     "name": "stdout",
     "output_type": "stream",
     "text": [
      "Shape of data_ACC : \n",
      "(134, 3, 189)\n",
      "Dimension/Rank of data_ACC : \n",
      "3\n"
     ]
    }
   ],
   "source": [
    "# spliting out the data_ACC from the dataset\n",
    "data_acc = matdata['data_ACC']\n",
    "\n",
    "print(\"Shape of data_ACC : \")\n",
    "print(data_acc.shape)\n",
    "\n",
    "print(\"Dimension/Rank of data_ACC : \")\n",
    "print(data_acc.ndim)"
   ]
  },
  {
   "cell_type": "code",
   "execution_count": 6,
   "metadata": {},
   "outputs": [
    {
     "name": "stdout",
     "output_type": "stream",
     "text": [
      "Shape of data_EMG : \n",
      "(20000, 6, 189)\n",
      "Dimension/Rank of data_EMG : \n",
      "3\n"
     ]
    }
   ],
   "source": [
    "# spliting out the data_EMG from the dataset\n",
    "data_emg = matdata['data_EMG']\n",
    "\n",
    "print(\"Shape of data_EMG : \")\n",
    "print(data_emg.shape)\n",
    "\n",
    "print(\"Dimension/Rank of data_EMG : \")\n",
    "print(data_emg.ndim)"
   ]
  },
  {
   "cell_type": "code",
   "execution_count": 7,
   "metadata": {},
   "outputs": [
    {
     "name": "stdout",
     "output_type": "stream",
     "text": [
      "(20000, 6, 9)\n",
      "(20000, 6, 9)\n",
      "(20000, 6, 9)\n",
      "(20000, 6, 9)\n",
      "(20000, 6, 9)\n",
      "(20000, 6, 9)\n",
      "(20000, 6, 9)\n"
     ]
    }
   ],
   "source": [
    "# the first class from rotation  1\n",
    "c1o1 = data_emg[:, :, 0:9]\n",
    "print(c1o1.shape)\n",
    "\n",
    "# the second class from rotation  1\n",
    "c2o1 = data_emg[:, :, 9:18]\n",
    "print(c2o1.shape)\n",
    "\n",
    "# the third class from rotation 1\n",
    "c3o1 = data_emg[:, :, 18:27]\n",
    "print(c3o1.shape)\n",
    "\n",
    "# the fourth class from rotation 1\n",
    "c4o1 = data_emg[:, :, 27:36]\n",
    "print(c4o1.shape)\n",
    "\n",
    "# the fifth class from rotation 1\n",
    "c5o1 = data_emg[:, :, 36:45]\n",
    "print(c5o1.shape)\n",
    "\n",
    "# the sixth class from rotation 1\n",
    "c6o1 = data_emg[:, :, 45:54]\n",
    "print(c6o1.shape)\n",
    "\n",
    "# the seventh class from rotation 1\n",
    "c7o1 = data_emg[:, :, 54:63]\n",
    "print(c7o1.shape)"
   ]
  },
  {
   "cell_type": "code",
   "execution_count": 8,
   "metadata": {},
   "outputs": [
    {
     "name": "stdout",
     "output_type": "stream",
     "text": [
      "(20000, 6, 9)\n",
      "(20000, 6, 9)\n",
      "(20000, 6, 9)\n",
      "(20000, 6, 9)\n",
      "(20000, 6, 9)\n",
      "(20000, 6, 9)\n",
      "(20000, 6, 9)\n"
     ]
    }
   ],
   "source": [
    "# the first class from rotation 2\n",
    "c1o2 = data_emg[:, :, 63:72]\n",
    "print(c1o2.shape)\n",
    "\n",
    "# the second class from rotation 2\n",
    "c2o2 = data_emg[:, :, 72:81]\n",
    "print(c2o2.shape)\n",
    "\n",
    "# the third class from rotation 2\n",
    "c3o2 = data_emg[:, :, 81:90]\n",
    "print(c3o2.shape)\n",
    "\n",
    "# the fourth class from rotation 2\n",
    "c4o2 = data_emg[:, :, 90:99]\n",
    "print(c4o2.shape)\n",
    "\n",
    "# the fifth class from rotation 2\n",
    "c5o2 = data_emg[:, :, 99:108]\n",
    "print(c5o2.shape)\n",
    "\n",
    "# the sixth class from rotation 2\n",
    "c6o2 = data_emg[:, :, 108:117]\n",
    "print(c6o2.shape)\n",
    "\n",
    "# the seventh class from rotation 2\n",
    "c7o2 = data_emg[:, :, 117:126]\n",
    "print(c7o2.shape)"
   ]
  },
  {
   "cell_type": "code",
   "execution_count": 9,
   "metadata": {},
   "outputs": [
    {
     "name": "stdout",
     "output_type": "stream",
     "text": [
      "(20000, 6, 9)\n",
      "(20000, 6, 9)\n",
      "(20000, 6, 9)\n",
      "(20000, 6, 9)\n",
      "(20000, 6, 9)\n",
      "(20000, 6, 9)\n",
      "(20000, 6, 9)\n"
     ]
    }
   ],
   "source": [
    "# the first class from rotation 3\n",
    "c1o3 = data_emg[:, :, 126:135]\n",
    "print(c1o3.shape)\n",
    "\n",
    "# the second class from rotation 3\n",
    "c2o3 = data_emg[:, :, 135:144]\n",
    "print(c2o3.shape)\n",
    "\n",
    "# the third class from rotation 3\n",
    "c3o3 = data_emg[:, :, 144:153]\n",
    "print(c3o3.shape)\n",
    "\n",
    "# the fourth class from rotation 3\n",
    "c4o3 = data_emg[:, :, 153:162]\n",
    "print(c4o3.shape)\n",
    "\n",
    "# the fifth class from rotation 3\n",
    "c5o3 = data_emg[:, :, 162:171]\n",
    "print(c5o3.shape)\n",
    "\n",
    "# the sixth class from rotation 3\n",
    "c6o3 = data_emg[:, :, 171:180]\n",
    "print(c6o3.shape)\n",
    "\n",
    "# the seventh class from rotation 3\n",
    "c7o3 = data_emg[:, :, 180:189]\n",
    "print(c7o3.shape)"
   ]
  },
  {
   "cell_type": "code",
   "execution_count": 14,
   "metadata": {},
   "outputs": [
    {
     "data": {
      "image/png": "[encoded data removed]",
      "text/plain": [
       "<Figure size 1000x500 with 2 Axes>"
      ]
     },
     "metadata": {},
     "output_type": "display_data"
    }
   ],
   "source": [
    "plt.figure(figsize=(10, 5))\n",
    "sns.heatmap(data_emg[0], cmap='viridis')\n",
    "plt.xlabel('X-axis')\n",
    "plt.ylabel('Y-axis')\n",
    "plt.title('Heatmap of data_emg')\n",
    "plt.show()"
   ]
  }
 ],
 "metadata": {
  "kernelspec": {
   "display_name": "base",
   "language": "python",
   "name": "python3"
  },
  "language_info": {
   "codemirror_mode": {
    "name": "ipython",
    "version": 3
   },
   "file_extension": ".py",
   "mimetype": "text/x-python",
   "name": "python",
   "nbconvert_exporter": "python",
   "pygments_lexer": "ipython3",
   "version": "3.11.3"
  },
  "orig_nbformat": 4
 },
 "nbformat": 4,
 "nbformat_minor": 2
}
